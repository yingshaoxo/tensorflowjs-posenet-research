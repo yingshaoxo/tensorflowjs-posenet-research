{
 "cells": [
  {
   "cell_type": "markdown",
   "metadata": {},
   "source": [
    "## Why I use jupyter\n",
    "\n",
    "It's too boring to train a model on terminal\n",
    "\n",
    "So I just decided to use jupyter to simplify work"
   ]
  },
  {
   "cell_type": "markdown",
   "metadata": {},
   "source": [
    "## Let's get started"
   ]
  },
  {
   "cell_type": "markdown",
   "metadata": {},
   "source": [
    "#### 1. Import my packages"
   ]
  },
  {
   "cell_type": "code",
   "execution_count": 1,
   "metadata": {},
   "outputs": [
    {
     "name": "stdout",
     "output_type": "stream",
     "text": [
      "collect_json_data.py\n",
      "data\n",
      "js\n",
      "pose_detect_model.h5\n",
      "py\n",
      "README.md\n",
      "start_traning.ipynb\n"
     ]
    }
   ],
   "source": [
    "import os\n",
    "from auto_everything.base import IO, Terminal\n",
    "io = IO()\n",
    "t = Terminal()\n",
    "\n",
    "print(t.run_command('ls'))"
   ]
  },
  {
   "cell_type": "markdown",
   "metadata": {},
   "source": [
    "#### 2. Get json files from local storege"
   ]
  },
  {
   "cell_type": "code",
   "execution_count": 11,
   "metadata": {},
   "outputs": [
    {
     "name": "stdout",
     "output_type": "stream",
     "text": [
      "['sitting.json', 'standing.json']\n",
      "2\n"
     ]
    }
   ],
   "source": [
    "files = os.listdir(\"data\")\n",
    "files = [file for file in files if '.json' in file]\n",
    "Classes_Num = len(files)\n",
    "\n",
    "print(files)\n",
    "print(Classes_Num)"
   ]
  },
  {
   "cell_type": "markdown",
   "metadata": {},
   "source": [
    "#### 3. define a function for calculate distance of raw points"
   ]
  },
  {
   "cell_type": "code",
   "execution_count": 12,
   "metadata": {},
   "outputs": [],
   "source": [
    "from keras.utils import normalize\n",
    "import numpy as np\n",
    "import math\n",
    "\n",
    "# calculate distance ratio of (0,0) to (x,y)\n",
    "def prepare_python_list(list_):\n",
    "    result_frames = []\n",
    "    for old_frame in list_:\n",
    "        new_frame = normalize(np.array(old_frame), axis=0).tolist()\n",
    "        result_frames.append(new_frame)\n",
    "    return result_frames"
   ]
  },
  {
   "cell_type": "markdown",
   "metadata": {},
   "source": [
    "#### 4. try to get `x` and `y` (numpy array)"
   ]
  },
  {
   "cell_type": "code",
   "execution_count": 13,
   "metadata": {},
   "outputs": [],
   "source": [
    "import json\n",
    "\n",
    "global x, y\n",
    "\n",
    "for index, file in enumerate(files):\n",
    "    x_part = json.loads(io.read(\"data/{name}\".format(name=file)))\n",
    "    x_part = prepare_python_list(x_part)\n",
    "    x_part = np.array(x_part)\n",
    "\n",
    "    y_part = np.full(x_part.shape[0], index)\n",
    "\n",
    "    if index == 0:\n",
    "        x = x_part\n",
    "        y = y_part\n",
    "    else:\n",
    "        x = np.append(x, x_part, axis=0)\n",
    "        y = np.append(y, y_part, axis=0)"
   ]
  },
  {
   "cell_type": "markdown",
   "metadata": {},
   "source": [
    "#### 5. reshape `array` to let it fit the need of `keras`"
   ]
  },
  {
   "cell_type": "code",
   "execution_count": 14,
   "metadata": {},
   "outputs": [
    {
     "name": "stdout",
     "output_type": "stream",
     "text": [
      "[[[0.22963766 0.26492816]\n",
      "  [0.22134579 0.24136695]\n",
      "  [0.23121999 0.20769217]\n",
      "  ...\n",
      "  [0.24597837 0.18380082]\n",
      "  [0.25163442 0.18418821]\n",
      "  [0.24218532 0.18878434]]\n",
      "\n",
      " [[0.24346178 0.27612885]\n",
      "  [0.23314056 0.24371546]\n",
      "  [0.2510517  0.20678866]\n",
      "  ...\n",
      "  [0.27395422 0.20457598]\n",
      "  [0.         0.        ]\n",
      "  [0.27171183 0.20997395]]\n",
      "\n",
      " [[0.29406854 0.29685178]\n",
      "  [0.2945674  0.26583294]\n",
      "  [0.30750006 0.22478359]\n",
      "  ...\n",
      "  [0.         0.        ]\n",
      "  [0.         0.        ]\n",
      "  [0.         0.        ]]\n",
      "\n",
      " ...\n",
      "\n",
      " [[0.22307112 0.25199501]\n",
      "  [0.21751359 0.2086644 ]\n",
      "  [0.22869747 0.16649322]\n",
      "  ...\n",
      "  [0.24803236 0.12347884]\n",
      "  [0.25224711 0.1243278 ]\n",
      "  [0.24461761 0.12972544]]\n",
      "\n",
      " [[0.22568805 0.24453686]\n",
      "  [0.22884192 0.22068287]\n",
      "  [0.2278397  0.16366805]\n",
      "  ...\n",
      "  [0.24789122 0.12085618]\n",
      "  [0.25160782 0.11668485]\n",
      "  [0.244867   0.12854136]]\n",
      "\n",
      " [[0.22550998 0.24124613]\n",
      "  [0.23093988 0.21678471]\n",
      "  [0.22936862 0.16089518]\n",
      "  ...\n",
      "  [0.24824484 0.11785668]\n",
      "  [0.25190319 0.11353664]\n",
      "  [0.24622657 0.1255766 ]]] [0 0 0 ... 1 1 1]\n"
     ]
    }
   ],
   "source": [
    "# randomnize data\n",
    "index = np.arange(x.shape[0])\n",
    "np.random.shuffle(index)\n",
    "print(x,y)\n",
    "\n",
    "# 3D to 2D\n",
    "x = x[index]\n",
    "x = x.reshape(len(x), -1)\n",
    "\n",
    "y = y[index]"
   ]
  },
  {
   "cell_type": "markdown",
   "metadata": {},
   "source": [
    "#### 6. build keras model"
   ]
  },
  {
   "cell_type": "code",
   "execution_count": 19,
   "metadata": {},
   "outputs": [],
   "source": [
    "from keras.models import Sequential\n",
    "from keras.layers import Dense\n",
    "\n",
    "model = Sequential()\n",
    "\n",
    "model.add(Dense(17, input_dim=x.shape[1], activation='relu'))\n",
    "model.add(Dense(12, activation='relu'))\n",
    "model.add(Dense(12, activation='relu'))\n",
    "model.add(Dense(Classes_Num, activation='softmax'))\n",
    "\n",
    "model.compile(loss='sparse_categorical_crossentropy', optimizer='adam', metrics=['accuracy'])"
   ]
  },
  {
   "cell_type": "markdown",
   "metadata": {},
   "source": [
    "#### 7. papare data, and fit it to model"
   ]
  },
  {
   "cell_type": "code",
   "execution_count": 24,
   "metadata": {},
   "outputs": [
    {
     "name": "stdout",
     "output_type": "stream",
     "text": [
      "[1 1 0 ... 0 1 0]\n",
      "Epoch 1/100\n",
      "2470/2470 [==============================] - 0s 98us/step - loss: 0.0986 - acc: 0.9668\n",
      "Epoch 2/100\n",
      "2470/2470 [==============================] - 0s 90us/step - loss: 0.0750 - acc: 0.9737\n",
      "Epoch 3/100\n",
      "2470/2470 [==============================] - 0s 89us/step - loss: 0.0823 - acc: 0.9688\n",
      "Epoch 4/100\n",
      "2470/2470 [==============================] - 0s 93us/step - loss: 0.0906 - acc: 0.9656\n",
      "Epoch 5/100\n",
      "2470/2470 [==============================] - 0s 93us/step - loss: 0.0946 - acc: 0.9628\n",
      "Epoch 6/100\n",
      "2470/2470 [==============================] - 0s 91us/step - loss: 0.1074 - acc: 0.9575\n",
      "Epoch 7/100\n",
      "2470/2470 [==============================] - 0s 94us/step - loss: 0.0951 - acc: 0.9644\n",
      "Epoch 8/100\n",
      "2470/2470 [==============================] - 0s 89us/step - loss: 0.0925 - acc: 0.9615\n",
      "Epoch 9/100\n",
      "2470/2470 [==============================] - 0s 88us/step - loss: 0.1142 - acc: 0.9534\n",
      "Epoch 10/100\n",
      "2470/2470 [==============================] - 0s 91us/step - loss: 0.1210 - acc: 0.9571\n",
      "Epoch 11/100\n",
      "2470/2470 [==============================] - 0s 102us/step - loss: 0.0890 - acc: 0.9660\n",
      "Epoch 12/100\n",
      "2470/2470 [==============================] - 0s 119us/step - loss: 0.0999 - acc: 0.9615\n",
      "Epoch 13/100\n",
      "2470/2470 [==============================] - 0s 92us/step - loss: 0.0915 - acc: 0.9623\n",
      "Epoch 14/100\n",
      "2470/2470 [==============================] - 0s 109us/step - loss: 0.0834 - acc: 0.9664\n",
      "Epoch 15/100\n",
      "2470/2470 [==============================] - 0s 101us/step - loss: 0.0848 - acc: 0.9656\n",
      "Epoch 16/100\n",
      "2470/2470 [==============================] - 0s 111us/step - loss: 0.1043 - acc: 0.9599\n",
      "Epoch 17/100\n",
      "2470/2470 [==============================] - 0s 90us/step - loss: 0.1050 - acc: 0.9615\n",
      "Epoch 18/100\n",
      "2470/2470 [==============================] - 0s 112us/step - loss: 0.1040 - acc: 0.9607\n",
      "Epoch 19/100\n",
      "2470/2470 [==============================] - 0s 99us/step - loss: 0.0950 - acc: 0.9640\n",
      "Epoch 20/100\n",
      "2470/2470 [==============================] - 0s 107us/step - loss: 0.0892 - acc: 0.9664\n",
      "Epoch 21/100\n",
      "2470/2470 [==============================] - 0s 97us/step - loss: 0.0843 - acc: 0.9672\n",
      "Epoch 22/100\n",
      "2470/2470 [==============================] - 0s 112us/step - loss: 0.1110 - acc: 0.9547\n",
      "Epoch 23/100\n",
      "2470/2470 [==============================] - 0s 95us/step - loss: 0.0983 - acc: 0.9619\n",
      "Epoch 24/100\n",
      "2470/2470 [==============================] - 0s 116us/step - loss: 0.0945 - acc: 0.9640\n",
      "Epoch 25/100\n",
      "2470/2470 [==============================] - 0s 90us/step - loss: 0.0984 - acc: 0.9632\n",
      "Epoch 26/100\n",
      "2470/2470 [==============================] - 0s 102us/step - loss: 0.0717 - acc: 0.9749\n",
      "Epoch 27/100\n",
      "2470/2470 [==============================] - 0s 110us/step - loss: 0.1091 - acc: 0.9563\n",
      "Epoch 28/100\n",
      "2470/2470 [==============================] - 0s 101us/step - loss: 0.1055 - acc: 0.9595\n",
      "Epoch 29/100\n",
      "2470/2470 [==============================] - 0s 106us/step - loss: 0.0873 - acc: 0.9668\n",
      "Epoch 30/100\n",
      "2470/2470 [==============================] - 0s 92us/step - loss: 0.1025 - acc: 0.9607\n",
      "Epoch 31/100\n",
      "2470/2470 [==============================] - 0s 90us/step - loss: 0.0820 - acc: 0.9684\n",
      "Epoch 32/100\n",
      "2470/2470 [==============================] - 0s 99us/step - loss: 0.0760 - acc: 0.9684\n",
      "Epoch 33/100\n",
      "2470/2470 [==============================] - 0s 99us/step - loss: 0.1184 - acc: 0.9571\n",
      "Epoch 34/100\n",
      "2470/2470 [==============================] - 0s 101us/step - loss: 0.0882 - acc: 0.9664\n",
      "Epoch 35/100\n",
      "2470/2470 [==============================] - 0s 104us/step - loss: 0.0936 - acc: 0.9623\n",
      "Epoch 36/100\n",
      "2470/2470 [==============================] - 0s 95us/step - loss: 0.0870 - acc: 0.9656\n",
      "Epoch 37/100\n",
      "2470/2470 [==============================] - 0s 84us/step - loss: 0.0873 - acc: 0.9668\n",
      "Epoch 38/100\n",
      "2470/2470 [==============================] - 0s 84us/step - loss: 0.1024 - acc: 0.9628\n",
      "Epoch 39/100\n",
      "2470/2470 [==============================] - 0s 94us/step - loss: 0.0768 - acc: 0.9721\n",
      "Epoch 40/100\n",
      "2470/2470 [==============================] - 0s 100us/step - loss: 0.0798 - acc: 0.9676\n",
      "Epoch 41/100\n",
      "2470/2470 [==============================] - 0s 101us/step - loss: 0.0894 - acc: 0.9660\n",
      "Epoch 42/100\n",
      "2470/2470 [==============================] - 0s 89us/step - loss: 0.0806 - acc: 0.9709\n",
      "Epoch 43/100\n",
      "2470/2470 [==============================] - 0s 89us/step - loss: 0.1019 - acc: 0.9591\n",
      "Epoch 44/100\n",
      "2470/2470 [==============================] - 0s 107us/step - loss: 0.0851 - acc: 0.9680\n",
      "Epoch 45/100\n",
      "2470/2470 [==============================] - 0s 105us/step - loss: 0.0962 - acc: 0.9611\n",
      "Epoch 46/100\n",
      "2470/2470 [==============================] - 0s 101us/step - loss: 0.0779 - acc: 0.9696\n",
      "Epoch 47/100\n",
      "2470/2470 [==============================] - 0s 92us/step - loss: 0.0949 - acc: 0.9619\n",
      "Epoch 48/100\n",
      "2470/2470 [==============================] - 0s 89us/step - loss: 0.1036 - acc: 0.9607\n",
      "Epoch 49/100\n",
      "2470/2470 [==============================] - 0s 89us/step - loss: 0.0862 - acc: 0.9636\n",
      "Epoch 50/100\n",
      "2470/2470 [==============================] - 0s 97us/step - loss: 0.0979 - acc: 0.9615\n",
      "Epoch 51/100\n",
      "2470/2470 [==============================] - 0s 90us/step - loss: 0.0783 - acc: 0.9704\n",
      "Epoch 52/100\n",
      "2470/2470 [==============================] - 0s 94us/step - loss: 0.0978 - acc: 0.9628\n",
      "Epoch 53/100\n",
      "2470/2470 [==============================] - 0s 90us/step - loss: 0.0735 - acc: 0.9721\n",
      "Epoch 54/100\n",
      "2470/2470 [==============================] - 0s 100us/step - loss: 0.0946 - acc: 0.9623\n",
      "Epoch 55/100\n",
      "2470/2470 [==============================] - 0s 97us/step - loss: 0.0962 - acc: 0.9652\n",
      "Epoch 56/100\n",
      "2470/2470 [==============================] - 0s 95us/step - loss: 0.1072 - acc: 0.9595\n",
      "Epoch 57/100\n",
      "2470/2470 [==============================] - 0s 93us/step - loss: 0.0790 - acc: 0.9709\n",
      "Epoch 58/100\n",
      "2470/2470 [==============================] - 0s 93us/step - loss: 0.0854 - acc: 0.9632\n",
      "Epoch 59/100\n",
      "2470/2470 [==============================] - 0s 95us/step - loss: 0.0860 - acc: 0.9652\n",
      "Epoch 60/100\n",
      "2470/2470 [==============================] - 0s 105us/step - loss: 0.0901 - acc: 0.9652\n",
      "Epoch 61/100\n",
      "2470/2470 [==============================] - 0s 101us/step - loss: 0.0925 - acc: 0.9607\n",
      "Epoch 62/100\n",
      "2470/2470 [==============================] - 0s 97us/step - loss: 0.0932 - acc: 0.9656\n",
      "Epoch 63/100\n",
      "2470/2470 [==============================] - 0s 93us/step - loss: 0.0865 - acc: 0.9688\n",
      "Epoch 64/100\n",
      "2470/2470 [==============================] - 0s 92us/step - loss: 0.0755 - acc: 0.9713\n",
      "Epoch 65/100\n",
      "2470/2470 [==============================] - 0s 95us/step - loss: 0.0855 - acc: 0.9623\n",
      "Epoch 66/100\n",
      "2470/2470 [==============================] - 0s 91us/step - loss: 0.0804 - acc: 0.9717\n",
      "Epoch 67/100\n",
      "2470/2470 [==============================] - 0s 100us/step - loss: 0.1043 - acc: 0.9575\n",
      "Epoch 68/100\n",
      "2470/2470 [==============================] - 0s 92us/step - loss: 0.0816 - acc: 0.9700\n",
      "Epoch 69/100\n",
      "2470/2470 [==============================] - 0s 92us/step - loss: 0.1070 - acc: 0.9591\n",
      "Epoch 70/100\n",
      "2470/2470 [==============================] - 0s 96us/step - loss: 0.1172 - acc: 0.9603\n",
      "Epoch 71/100\n",
      "2470/2470 [==============================] - 0s 99us/step - loss: 0.0665 - acc: 0.9741\n",
      "Epoch 72/100\n",
      "2470/2470 [==============================] - 0s 108us/step - loss: 0.0628 - acc: 0.9806\n",
      "Epoch 73/100\n",
      "2470/2470 [==============================] - 0s 100us/step - loss: 0.0733 - acc: 0.9692\n",
      "Epoch 74/100\n",
      "2470/2470 [==============================] - 0s 97us/step - loss: 0.0881 - acc: 0.9696\n",
      "Epoch 75/100\n",
      "2470/2470 [==============================] - 0s 97us/step - loss: 0.1096 - acc: 0.9599\n",
      "Epoch 76/100\n",
      "2470/2470 [==============================] - 0s 98us/step - loss: 0.0869 - acc: 0.9660\n",
      "Epoch 77/100\n",
      "2470/2470 [==============================] - 0s 96us/step - loss: 0.0980 - acc: 0.9640\n",
      "Epoch 78/100\n",
      "2470/2470 [==============================] - 0s 94us/step - loss: 0.0942 - acc: 0.9660\n",
      "Epoch 79/100\n",
      "2470/2470 [==============================] - 0s 96us/step - loss: 0.1027 - acc: 0.9615\n",
      "Epoch 80/100\n",
      "2470/2470 [==============================] - 0s 101us/step - loss: 0.0880 - acc: 0.9664\n",
      "Epoch 81/100\n",
      "2470/2470 [==============================] - 0s 96us/step - loss: 0.0736 - acc: 0.9729\n",
      "Epoch 82/100\n",
      "2470/2470 [==============================] - 0s 89us/step - loss: 0.0829 - acc: 0.9644\n",
      "Epoch 83/100\n",
      "2470/2470 [==============================] - 0s 86us/step - loss: 0.0763 - acc: 0.9729\n",
      "Epoch 84/100\n",
      "2470/2470 [==============================] - 0s 90us/step - loss: 0.0935 - acc: 0.9636\n",
      "Epoch 85/100\n",
      "2470/2470 [==============================] - 0s 89us/step - loss: 0.0747 - acc: 0.9721\n",
      "Epoch 86/100\n",
      "2470/2470 [==============================] - 0s 86us/step - loss: 0.0867 - acc: 0.9672\n",
      "Epoch 87/100\n",
      "2470/2470 [==============================] - 0s 88us/step - loss: 0.0712 - acc: 0.9741\n",
      "Epoch 88/100\n",
      "2470/2470 [==============================] - 0s 86us/step - loss: 0.0682 - acc: 0.9741\n",
      "Epoch 89/100\n",
      "2470/2470 [==============================] - 0s 86us/step - loss: 0.0935 - acc: 0.9636\n",
      "Epoch 90/100\n",
      "2470/2470 [==============================] - 0s 97us/step - loss: 0.0912 - acc: 0.9644\n",
      "Epoch 91/100\n",
      "2470/2470 [==============================] - 0s 100us/step - loss: 0.0757 - acc: 0.9737\n",
      "Epoch 92/100\n",
      "2470/2470 [==============================] - 0s 89us/step - loss: 0.0844 - acc: 0.9688\n",
      "Epoch 93/100\n",
      "2470/2470 [==============================] - 0s 86us/step - loss: 0.0877 - acc: 0.9632\n",
      "Epoch 94/100\n",
      "2470/2470 [==============================] - 0s 90us/step - loss: 0.0705 - acc: 0.9737\n",
      "Epoch 95/100\n",
      "2470/2470 [==============================] - 0s 91us/step - loss: 0.0854 - acc: 0.9648\n",
      "Epoch 96/100\n",
      "2470/2470 [==============================] - 0s 90us/step - loss: 0.0798 - acc: 0.9721\n",
      "Epoch 97/100\n",
      "2470/2470 [==============================] - 0s 90us/step - loss: 0.0677 - acc: 0.9745\n",
      "Epoch 98/100\n",
      "2470/2470 [==============================] - 0s 90us/step - loss: 0.1218 - acc: 0.9575\n",
      "Epoch 99/100\n",
      "2470/2470 [==============================] - 0s 94us/step - loss: 0.0836 - acc: 0.9680\n",
      "Epoch 100/100\n",
      "2470/2470 [==============================] - 0s 88us/step - loss: 0.0720 - acc: 0.9721\n"
     ]
    },
    {
     "data": {
      "text/plain": [
       "<keras.callbacks.History at 0x7f78eea908d0>"
      ]
     },
     "execution_count": 24,
     "metadata": {},
     "output_type": "execute_result"
    }
   ],
   "source": [
    "from keras.utils.np_utils import to_categorical\n",
    "\n",
    "#y = to_categorical(y)\n",
    "print(y)\n",
    "\n",
    "x_train = x[:-50]\n",
    "y_train = y[:-50]\n",
    "x_test = x[-50:]\n",
    "y_test = y[-50:]\n",
    "\n",
    "model.fit(x_train, y_train, batch_size=10, epochs=100)"
   ]
  },
  {
   "cell_type": "markdown",
   "metadata": {},
   "source": [
    "#### 8. test"
   ]
  },
  {
   "cell_type": "code",
   "execution_count": 25,
   "metadata": {},
   "outputs": [
    {
     "name": "stdout",
     "output_type": "stream",
     "text": [
      "50/50 [==============================] - 0s 43us/step\n",
      "loss: 0.07360834233462811\n",
      "accuracy 0.98\n",
      "\n",
      "\n",
      "\n",
      "[0 0 0 0 0 1 1 0 1 1 0 0 0 0 1 1 1 1 1 1 1 1 0 0 0 1 1 0 1 1 0 1 1 0 0 0 1\n",
      " 1 1 1 1 1 0 0 0 0 0 0 1 0]\n",
      "[0 0 0 0 0 1 1 0 1 0 0 0 0 0 1 1 1 1 1 1 1 1 0 0 0 1 1 0 1 1 0 1 1 0 0 0 1\n",
      " 1 1 1 1 1 0 0 0 0 0 0 1 0]\n"
     ]
    }
   ],
   "source": [
    "loss, accuracy = model.evaluate(x_test, y_test)\n",
    "print('loss:', loss)\n",
    "print('accuracy', accuracy)\n",
    "\n",
    "\n",
    "print('\\n'*2)\n",
    "print(y_test)\n",
    "predictions = model.predict(x_test)\n",
    "predictions = [np.argmax(element) for element in predictions]\n",
    "predictions = np.array(predictions)\n",
    "print(predictions)"
   ]
  },
  {
   "cell_type": "markdown",
   "metadata": {},
   "source": [
    "#### 9. save model"
   ]
  },
  {
   "cell_type": "code",
   "execution_count": 26,
   "metadata": {},
   "outputs": [],
   "source": [
    "model.save('pose_detect_model.h5')"
   ]
  },
  {
   "cell_type": "markdown",
   "metadata": {},
   "source": [
    "#### 10. convert keras model to tensorflowjs"
   ]
  },
  {
   "cell_type": "code",
   "execution_count": 27,
   "metadata": {},
   "outputs": [
    {
     "name": "stdout",
     "output_type": "stream",
     "text": [
      "/home/yingshaoxo/.local/lib/python3.6/site-packages/h5py/__init__.py:36: FutureWarning: Conversion of the second argument of issubdtype from `float` to `np.floating` is deprecated. In future, it will be treated as `np.float64 == np.dtype(float).type`.\n",
      "  from ._conv import register_converters as _register_converters\n",
      "Using TensorFlow backend.\n"
     ]
    }
   ],
   "source": [
    "c = \"tensorflowjs_converter --input_format=keras --output_format=tensorflowjs pose_detect_model.h5 ../../standing_or_sitting_models\"\n",
    "r = t.run_command(c)\n",
    "print(r)"
   ]
  }
 ],
 "metadata": {
  "kernelspec": {
   "display_name": "Python 3",
   "language": "python",
   "name": "python3"
  },
  "language_info": {
   "codemirror_mode": {
    "name": "ipython",
    "version": 3
   },
   "file_extension": ".py",
   "mimetype": "text/x-python",
   "name": "python",
   "nbconvert_exporter": "python",
   "pygments_lexer": "ipython3",
   "version": "3.6.5"
  }
 },
 "nbformat": 4,
 "nbformat_minor": 2
}
